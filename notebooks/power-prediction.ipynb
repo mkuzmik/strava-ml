{
 "cells": [
  {
   "cell_type": "code",
   "execution_count": 39,
   "metadata": {},
   "outputs": [],
   "source": [
    "import requests\n",
    "import json\n",
    "from datetime import datetime\n",
    "import threading\n",
    "from http.server import HTTPServer, BaseHTTPRequestHandler\n",
    "import webbrowser\n",
    "from urllib.parse import urlparse, parse_qs\n",
    "import yaml\n",
    "\n",
    "CLIENT_ID = None\n",
    "CLIENT_SECRET = None\n",
    "\n",
    "AUTH_CODE = None\n",
    "ACCESS_TOKEN = None\n",
    "REFRESH_TOKEN = None\n",
    "\n",
    "class MyHandler(BaseHTTPRequestHandler):\n",
    "\n",
    "    def do_GET(self):\n",
    "        global AUTH_CODE\n",
    "        \n",
    "        query_components = parse_qs(urlparse(self.path).query)\n",
    "        AUTH_CODE = query_components['code']\n",
    "        self.send_response(200)\n",
    "        self.end_headers()\n",
    "        self.wfile.write(str.encode('Received auth code: {}'.format(AUTH_CODE)))\n",
    "        \n",
    "        # shutting down\n",
    "        self.server.running = False\n",
    "\n",
    "        \n",
    "class MainServer:\n",
    "    def __init__(self, port = 8123):\n",
    "        self._server = HTTPServer(('0.0.0.0', port), MyHandler)\n",
    "        self._thread = threading.Thread(target=self.run)\n",
    "        self._thread.deamon = True \n",
    "\n",
    "    def run(self):\n",
    "        self._server.running = True\n",
    "        while self._server.running:\n",
    "            self._server.handle_request()\n",
    "\n",
    "    def start(self):\n",
    "        self._thread.start()\n",
    "\n",
    "    def shut_down(self):\n",
    "        self._thread.close()\n",
    "        \n",
    "\n",
    "def reset_tokens():\n",
    "    global AUTH_CODE, ACCESS_TOKEN, REFRESH_TOKEN\n",
    "    AUTH_CODE = None\n",
    "    ACCESS_TOKEN = None\n",
    "    REFRESH_TOKEN = None\n",
    "\n",
    "\n",
    "def setup(client_id=None, client_secret=None):\n",
    "    global CLIENT_ID, CLIENT_SECRET\n",
    "    \n",
    "    if client_id is None and client_secret is None:\n",
    "        with open('../credentials') as file:\n",
    "            creds = yaml.full_load(file)\n",
    "            CLIENT_ID = creds['client_id']\n",
    "            CLIENT_SECRET = creds['client_secret']\n",
    "    else:\n",
    "        CLIENT_ID = client_id\n",
    "        CLIENT_SECRET = client_secret\n",
    "    \n",
    "    reset_tokens()\n",
    "    \n",
    "    server = MainServer()\n",
    "    server.start()\n",
    "    webbrowser.open('https://www.strava.com/api/v3/oauth/authorize?response_type=code&client_id={}&redirect_uri=http://localhost:8123/give-me-token&scope=activity:read_all,profile:read_all&approval_prompt=force'.format(CLIENT_ID))\n",
    "    \n",
    "\n",
    "def refresh_token():\n",
    "    global ACCESS_TOKEN, REFRESH_TOKEN\n",
    "    url = 'https://www.strava.com/api/v3/oauth/token'\n",
    "    \n",
    "    payload = {\n",
    "        'client_id': CLIENT_ID,\n",
    "        'client_secret': CLIENT_SECRET,\n",
    "        'grant_type': 'authorization_code' if REFRESH_TOKEN is None else 'refresh_token',\n",
    "        'code': AUTH_CODE if REFRESH_TOKEN is None else REFRESH_TOKEN\n",
    "    }\n",
    "    \n",
    "    headers = {\n",
    "      'Content-Type': 'application/x-www-form-urlencoded'\n",
    "    }\n",
    "    \n",
    "    print(payload)\n",
    "\n",
    "    response = requests.request(\"POST\", url, headers=headers, data = payload)\n",
    "    \n",
    "    if response.status_code > 299:\n",
    "        raise Exception(response.status_code, response.text)\n",
    "    \n",
    "    parsed_response = json.loads(response.text)\n",
    "    ACCESS_TOKEN = parsed_response['access_token']\n",
    "    REFRESH_TOKEN = parsed_response['refresh_token']\n",
    "    \n",
    "    print(parsed_response)\n",
    "    \n",
    "    return 'expires_at={}'.format(datetime.fromtimestamp(parsed_response['expires_at']))\n",
    "\n",
    "\n",
    "\n",
    "def api_request(endpoint, retries=3):\n",
    "    url = \"https://www.strava.com/api/v3\" + endpoint\n",
    "\n",
    "    payload = {}\n",
    "    headers = {\n",
    "      'Authorization': 'Bearer {}'.format(ACCESS_TOKEN)\n",
    "    }\n",
    "\n",
    "    response = requests.request(\"GET\", url, headers=headers, data = payload)\n",
    "    \n",
    "    if response.status_code > 299:\n",
    "        raise Exception(response.status_code, response.text)\n",
    "    \n",
    "    return json.loads(response.text)\n"
   ]
  },
  {
   "cell_type": "code",
   "execution_count": 43,
   "metadata": {},
   "outputs": [
    {
     "name": "stderr",
     "output_type": "stream",
     "text": [
      "127.0.0.1 - - [23/Feb/2020 22:25:40] \"GET /give-me-token?state=&code=c907e976e1914a03d8becc74a76346413bb53aa6&scope=read,activity:read_all,profile:read_all HTTP/1.1\" 200 -\n"
     ]
    }
   ],
   "source": [
    "\"\"\"\n",
    "Setup authorization from credentials file\n",
    "\"\"\"\n",
    "setup()"
   ]
  },
  {
   "cell_type": "code",
   "execution_count": 44,
   "metadata": {},
   "outputs": [
    {
     "name": "stdout",
     "output_type": "stream",
     "text": [
      "{'client_id': 20539, 'client_secret': '954df898cdd4d90a239040d2124aa2a6afceab41', 'grant_type': 'authorization_code', 'code': ['c907e976e1914a03d8becc74a76346413bb53aa6']}\n",
      "{'token_type': 'Bearer', 'expires_at': 1582509930, 'expires_in': 16782, 'refresh_token': '5f2e8b899c82e4b28b93a0fb9c34aee6c2a78074', 'access_token': 'e239ffd0d8bf523d9feab34bf1380176352fc5a9', 'athlete': {'id': 2706822, 'username': 'mat_kuz', 'resource_state': 2, 'firstname': 'Mateusz', 'lastname': 'Kuźmik', 'city': 'Rzeszów', 'state': 'Województwo podkarpackie', 'country': 'Polska', 'sex': 'M', 'premium': True, 'summit': True, 'created_at': '2013-08-01T12:38:14Z', 'updated_at': '2020-02-07T13:00:06Z', 'badge_type_id': 1, 'profile_medium': 'https://dgalywyr863hv.cloudfront.net/pictures/athletes/2706822/13107580/1/medium.jpg', 'profile': 'https://dgalywyr863hv.cloudfront.net/pictures/athletes/2706822/13107580/1/large.jpg', 'friend': None, 'follower': None}}\n"
     ]
    },
    {
     "data": {
      "text/plain": [
       "'expires_at=2020-02-24 03:05:30'"
      ]
     },
     "execution_count": 44,
     "metadata": {},
     "output_type": "execute_result"
    }
   ],
   "source": [
    "\"\"\"\n",
    "Refresh access token\n",
    "\"\"\"\n",
    "refresh_token()"
   ]
  },
  {
   "cell_type": "code",
   "execution_count": null,
   "metadata": {},
   "outputs": [],
   "source": []
  }
 ],
 "metadata": {
  "kernelspec": {
   "display_name": "Python 3",
   "language": "python",
   "name": "python3"
  },
  "language_info": {
   "codemirror_mode": {
    "name": "ipython",
    "version": 3
   },
   "file_extension": ".py",
   "mimetype": "text/x-python",
   "name": "python",
   "nbconvert_exporter": "python",
   "pygments_lexer": "ipython3",
   "version": "3.7.6"
  }
 },
 "nbformat": 4,
 "nbformat_minor": 4
}
